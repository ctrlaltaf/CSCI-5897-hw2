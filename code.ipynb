{
 "cells": [
  {
   "cell_type": "markdown",
   "id": "1aedb9ec",
   "metadata": {},
   "source": [
    "HW 2 Code"
   ]
  },
  {
   "cell_type": "markdown",
   "id": "23cbc3e5",
   "metadata": {},
   "source": [
    "## Imports"
   ]
  },
  {
   "cell_type": "code",
   "execution_count": 6,
   "id": "bc9f4ec2",
   "metadata": {},
   "outputs": [],
   "source": [
    "import numpy as np\n",
    "import matplotlib.pyplot as plt"
   ]
  },
  {
   "cell_type": "code",
   "execution_count": 7,
   "id": "04c907d3",
   "metadata": {},
   "outputs": [],
   "source": [
    "def SIR(S0,I0,R0, beta, gamma, t_max, stepsize):\n",
    "    T = np.arange(0,t_max+stepsize,stepsize)\n",
    "    S = np.zeros(len(T))\n",
    "    I = np.zeros(len(T))\n",
    "    R = np.zeros(len(T))\n",
    "    N = S0+I0+R0\n",
    "    \n",
    "    for idx,t in enumerate(T):\n",
    "        if idx==0:\n",
    "            S[idx] = S0\n",
    "            I[idx] = I0\n",
    "            R[idx] = R0\n",
    "        else:\n",
    "            dS_dt = -beta * S[idx-1] * I[idx-1] / N\n",
    "            dI_dt = beta * S[idx-1] * I[idx-1] / N - gamma * I[idx-1]\n",
    "            dR_dt = gamma * I[idx-1]\n",
    "            \n",
    "            S[idx] = S[idx-1] + dS_dt * stepsize\n",
    "            I[idx] = I[idx-1] + dI_dt * stepsize\n",
    "            R[idx] = R[idx-1] + dR_dt * stepsize\n",
    "    \n",
    "    return S, I, R, T\n",
    "\n",
    "def SIS_norm(s0,i0, beta, gamma, t_max, stepsize):\n",
    "    T = np.arange(0,t_max+stepsize,stepsize)\n",
    "    s = np.zeros(len(T))\n",
    "    i = np.zeros(len(T))\n",
    "    \n",
    "    for idx,t in enumerate(T):\n",
    "        if idx==0:\n",
    "            s[idx] = s0\n",
    "            i[idx] = i0\n",
    "        else:\n",
    "            dS_dt = -beta * s[idx-1] * i[idx-1] + gamma * i[idx-1]\n",
    "            dI_dt = beta * s[idx-1] * i[idx-1] - gamma * i[idx-1]\n",
    "            \n",
    "            s[idx] = s[idx-1] + dS_dt * stepsize\n",
    "            i[idx] = i[idx-1] + dI_dt * stepsize\n",
    "    \n",
    "    return s, i, T\n",
    "\n",
    "def analytical_SIS(t_max, time_step, beta, gamma, i0):\n",
    "    t = np.arange(0, t_max + time_step, time_step)\n",
    "    r = beta - gamma\n",
    "    if np.isclose(r, 0.0):  # handle beta == gamma edge case\n",
    "        i_t = i0 / (1.0 + beta * i0 * t)\n",
    "    else:\n",
    "        numerator = i0 * np.exp(r * t)\n",
    "        denominator = 1 + (beta * i0 / r) * (np.exp(r * t) - 1)\n",
    "        i_t = numerator / denominator\n",
    "\n",
    "    return i_t, t\n",
    "\n"
   ]
  },
  {
   "cell_type": "markdown",
   "id": "83a65e79",
   "metadata": {},
   "source": [
    "## Q1.a"
   ]
  },
  {
   "cell_type": "code",
   "execution_count": 8,
   "id": "e72193d4",
   "metadata": {},
   "outputs": [],
   "source": [
    "# SIR_norm(S0,I0,R0, beta, gamma, t_max, stepsize):\n",
    "beta = 3\n",
    "gamma = 2\n",
    "t_max = 25\n",
    "s0 = 0.99\n",
    "i0 = 0.01\n",
    "\n",
    "s_1,i_1,T_1 = SIS_norm(s0, i0, beta, gamma, t_max,2)\n",
    "s_2,i_2,T_2 = SIS_norm(s0, i0, beta, gamma, t_max,1)\n",
    "s_3,i_3,T_3 = SIS_norm(s0, i0, beta, gamma, t_max,0.5)\n",
    "s_4,i_4,T_4 = SIS_norm(s0, i0, beta, gamma, t_max,0.001)\n",
    "\n",
    "\n",
    "# # analytical_SIS(t_max, time_step, beta, gamma, i0):\n",
    "analytical_i1, analytical_t1 = analytical_SIS(t_max, 2, beta, gamma, i0)\n",
    "analytical_i2, analytical_t2 = analytical_SIS(t_max, 1, beta, gamma, i0)\n",
    "analytical_i3, analytical_t3 = analytical_SIS(t_max, 0.5, beta, gamma, i0)\n",
    "\n",
    "\n",
    "\n",
    "fig, ax = plt.subplots()\n",
    "ax.plot(T_1, i_1, color='red', label='Forward I w/ t_step = 2')\n",
    "ax.plot(analytical_t1, analytical_i1, color='black', linestyle='--', label='Analytical I w/ t_step = 2')\n",
    "ax.set_xlabel('time')\n",
    "ax.set_ylabel('people')\n",
    "ax.legend()\n",
    "ax.set_ylim(0, 0.5)\n",
    "ax.set_xlim(0, 25)\n",
    "ax.set_title(\"Norm. SIR w/ t_step = 2\")\n",
    "fig.savefig(\"figures/sir_dt2.png\", dpi=300, bbox_inches='tight')\n",
    "plt.close(fig)\n",
    "\n",
    "fig, ax = plt.subplots()\n",
    "ax.plot(T_2, i_2, color='red', label='Forward I w/ t_step = 1')\n",
    "ax.plot(analytical_t2, analytical_i2, color='black', linestyle='--', label='Analytical I w/ t_step = 1')\n",
    "ax.set_xlabel('time')\n",
    "ax.set_ylabel('people')\n",
    "ax.legend()\n",
    "ax.set_ylim(0, 0.5)\n",
    "ax.set_xlim(0, 25)\n",
    "ax.set_title(\"Norm. SIR w/ t_step = 1\")\n",
    "fig.savefig(\"figures/sir_dt1.png\", dpi=300, bbox_inches='tight')\n",
    "plt.close(fig)\n",
    "\n",
    "fig, ax = plt.subplots()\n",
    "ax.plot(T_3, i_3, color='red', label='Forward I w/ t_step = 0.5')\n",
    "ax.plot(analytical_t3, analytical_i3, color='black', linestyle='--', label='Analytical I w/ t_step = 0.5')\n",
    "ax.set_xlabel('time')\n",
    "ax.set_ylabel('people')\n",
    "ax.legend()\n",
    "ax.set_ylim(0, 0.5)\n",
    "ax.set_xlim(0, 25)\n",
    "ax.set_title(\"Norm. SIR w/ t_step = 0.5\")\n",
    "fig.savefig(\"figures/sir_dt0.5.png\", dpi=300, bbox_inches='tight')\n",
    "plt.close(fig)\n"
   ]
  },
  {
   "cell_type": "markdown",
   "id": "4f2656c8",
   "metadata": {},
   "source": [
    "## Q1.c"
   ]
  },
  {
   "cell_type": "code",
   "execution_count": null,
   "id": "3c222402",
   "metadata": {},
   "outputs": [],
   "source": [
    "def max_abs_error(s0, i0, beta, gamma, t_max, stepsize):\n",
    "    _, i_euler, T = SIS_norm(s0, i0, beta, gamma, t_max, stepsize)\n",
    "    i_analytical, _ = analytical_SIS(t_max, stepsize, beta, gamma, i0)\n",
    "\n",
    "    E = np.max(np.abs(i_euler - i_analytical))\n",
    "\n",
    "    return E"
   ]
  },
  {
   "cell_type": "markdown",
   "id": "dd4e6a78",
   "metadata": {},
   "source": [
    "Q1.d"
   ]
  },
  {
   "cell_type": "code",
   "execution_count": 10,
   "id": "9575ae41",
   "metadata": {},
   "outputs": [
    {
     "name": "stdout",
     "output_type": "stream",
     "text": [
      "dt = 2     ->  E(dt) = 0.12634\n",
      "dt = 1     ->  E(dt) = 0.08077\n",
      "dt = 0.5   ->  E(dt) = 0.04284\n",
      "dt = 0.25  ->  E(dt) = 0.02200\n",
      "dt = 0.125  ->  E(dt) = 0.01111\n",
      "dt = 0.0625  ->  E(dt) = 0.00558\n",
      "dt = 0.03125  ->  E(dt) = 0.00280\n",
      "[2, 1, 0.5, 0.25, 0.125, 0.0625, 0.03125]\n",
      "[np.float64(0.1263393498870075), np.float64(0.08077107437456943), np.float64(0.04283504637204699), np.float64(0.02199772042578743), np.float64(0.011110659764940939), np.float64(0.005580919660415989), np.float64(0.002795846918956485)]\n"
     ]
    },
    {
     "data": {
      "text/plain": [
       "<matplotlib.legend.Legend at 0x12ff991d0>"
      ]
     },
     "execution_count": 10,
     "metadata": {},
     "output_type": "execute_result"
    },
    {
     "data": {
      "image/png": "[encoded data removed]",
      "text/plain": [
       "<Figure size 640x480 with 1 Axes>"
      ]
     },
     "metadata": {},
     "output_type": "display_data"
    }
   ],
   "source": [
    "# Try different deltas\n",
    "deltas = [2, 1, 1/2, 1/4, 1/8, 1/16, 1/32]\n",
    "ets = []\n",
    "\n",
    "i = 0\n",
    "for dt in deltas:\n",
    "    ets.append(max_abs_error(s0, i0, beta, gamma, t_max, dt))\n",
    "    print(f\"dt = {dt:<4}  ->  E(dt) = {ets[i]:.5f}\")\n",
    "    i+=1\n",
    "print(deltas)\n",
    "print(ets)\n",
    "\n",
    "fig, ax = plt.subplots()\n",
    "ax.scatter(deltas, ets, color='blue', s=30, label='Max error')\n",
    "ax.set_xscale(\"log\")\n",
    "ax.set_yscale(\"log\")\n",
    "ax.set_xlabel(\"delta t (log)\")\n",
    "ax.set_ylabel(\"max error (log)\")\n",
    "ax.set_title(\"Maximum Absolute Error vs. Time Step (log-log)\")\n",
    "fig.savefig(\"figures/max_abs_error.png\", dpi=300, bbox_inches='tight')\n",
    "ax.legend()"
   ]
  }
 ],
 "metadata": {
  "kernelspec": {
   "display_name": "hw",
   "language": "python",
   "name": "python3"
  },
  "language_info": {
   "codemirror_mode": {
    "name": "ipython",
    "version": 3
   },
   "file_extension": ".py",
   "mimetype": "text/x-python",
   "name": "python",
   "nbconvert_exporter": "python",
   "pygments_lexer": "ipython3",
   "version": "3.13.7"
  }
 },
 "nbformat": 4,
 "nbformat_minor": 5
}
